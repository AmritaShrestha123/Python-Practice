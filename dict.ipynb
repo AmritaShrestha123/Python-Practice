{
 "cells": [
  {
   "cell_type": "code",
   "execution_count": 5,
   "metadata": {},
   "outputs": [
    {
     "name": "stdout",
     "output_type": "stream",
     "text": [
      "<class 'dict'>\n"
     ]
    },
    {
     "data": {
      "text/plain": [
       "{'name': 'Amrita', 'address': 'Tikathali', 'number': '9823058935'}"
      ]
     },
     "execution_count": 5,
     "metadata": {},
     "output_type": "execute_result"
    }
   ],
   "source": [
    "a ={\n",
    "    \"name\":\"Amrita\",\n",
    "    \"address\":\"Tikathali\",\n",
    "    \"number\":\"9823058935\",\n",
    "}\n",
    "print(type(a))\n",
    "a\n"
   ]
  },
  {
   "cell_type": "code",
   "execution_count": 6,
   "metadata": {},
   "outputs": [
    {
     "name": "stdout",
     "output_type": "stream",
     "text": [
      "9823058935\n"
     ]
    }
   ],
   "source": [
    "# accessing the dict\n",
    "print(a['number'])"
   ]
  },
  {
   "cell_type": "code",
   "execution_count": 7,
   "metadata": {},
   "outputs": [
    {
     "data": {
      "text/plain": [
       "dict_values(['Amrita', 'Tikathali', '9823058935'])"
      ]
     },
     "execution_count": 7,
     "metadata": {},
     "output_type": "execute_result"
    }
   ],
   "source": [
    "# accessing the multiple value\n",
    "a.values()"
   ]
  },
  {
   "cell_type": "code",
   "execution_count": 9,
   "metadata": {},
   "outputs": [
    {
     "data": {
      "text/plain": [
       "dict_keys(['name', 'address', 'number'])"
      ]
     },
     "execution_count": 9,
     "metadata": {},
     "output_type": "execute_result"
    }
   ],
   "source": [
    "# accessing the multiple key\n",
    "a.keys()"
   ]
  },
  {
   "cell_type": "code",
   "execution_count": 10,
   "metadata": {},
   "outputs": [
    {
     "name": "stdout",
     "output_type": "stream",
     "text": [
      "amrita\n"
     ]
    }
   ],
   "source": [
    "a ={\n",
    "    \"name\":['amrita','aarati','amish'],\n",
    "    \"phone number\": ['9823058935', '9811556644','9867231556']\n",
    "}\n",
    "print(a['name'][0])"
   ]
  },
  {
   "cell_type": "code",
   "execution_count": 4,
   "metadata": {},
   "outputs": [
    {
     "data": {
      "text/plain": [
       "{'name': 'broadway', 'phone': '980', 'age': 15}"
      ]
     },
     "execution_count": 4,
     "metadata": {},
     "output_type": "execute_result"
    }
   ],
   "source": [
    "# using update method\n",
    "a={\n",
    "    \"name\":\"broadway\",\n",
    "    \"phone\":\"980\"\n",
    "}\n",
    "a.update({\"age\":15})\n",
    "a"
   ]
  },
  {
   "cell_type": "code",
   "execution_count": 6,
   "metadata": {},
   "outputs": [
    {
     "name": "stdout",
     "output_type": "stream",
     "text": [
      "clear method is used {}\n"
     ]
    }
   ],
   "source": [
    "#clear\n",
    "a={\n",
    "    \"name\":\"broadway\",\n",
    "    \"phone\":\"980\"\n",
    "}\n",
    "a.clear()\n",
    "print(\"clear method is used\",a)"
   ]
  },
  {
   "cell_type": "code",
   "execution_count": 9,
   "metadata": {},
   "outputs": [
    {
     "ename": "NameError",
     "evalue": "name 'a' is not defined",
     "output_type": "error",
     "traceback": [
      "\u001b[1;31m---------------------------------------------------------------------------\u001b[0m",
      "\u001b[1;31mNameError\u001b[0m                                 Traceback (most recent call last)",
      "Cell \u001b[1;32mIn[9], line 7\u001b[0m\n\u001b[0;32m      2\u001b[0m a\u001b[38;5;241m=\u001b[39m {\n\u001b[0;32m      3\u001b[0m     \u001b[38;5;124m\"\u001b[39m\u001b[38;5;124mname\u001b[39m\u001b[38;5;124m\"\u001b[39m:\u001b[38;5;124m\"\u001b[39m\u001b[38;5;124mbroadway\u001b[39m\u001b[38;5;124m\"\u001b[39m,\n\u001b[0;32m      4\u001b[0m     \u001b[38;5;124m\"\u001b[39m\u001b[38;5;124mphone\u001b[39m\u001b[38;5;124m\"\u001b[39m:\u001b[38;5;124m\"\u001b[39m\u001b[38;5;124m980\u001b[39m\u001b[38;5;124m\"\u001b[39m\n\u001b[0;32m      5\u001b[0m }\n\u001b[0;32m      6\u001b[0m \u001b[38;5;28;01mdel\u001b[39;00m a\n\u001b[1;32m----> 7\u001b[0m \u001b[43ma\u001b[49m\n",
      "\u001b[1;31mNameError\u001b[0m: name 'a' is not defined"
     ]
    }
   ],
   "source": [
    "#delete\n",
    "a= {\n",
    "    \"name\":\"broadway\",\n",
    "    \"phone\":\"980\"\n",
    "}\n",
    "del a\n",
    "a"
   ]
  },
  {
   "cell_type": "code",
   "execution_count": 17,
   "metadata": {},
   "outputs": [
    {
     "name": "stdout",
     "output_type": "stream",
     "text": [
      "{'city': 'dang', 'workcity': 'kathmandu'}\n"
     ]
    }
   ],
   "source": [
    "# pop elements in dict\n",
    "\n",
    "a= {\n",
    "    \"name\":\"broadway\",\n",
    "    \"phone\":\"980\"\n",
    "}\n",
    "a.pop('name')\n",
    "a\n",
    "\n",
    "data = {\n",
    "    \"city\" : \"dang\",\n",
    "    \"workcity\" : \"kathmandu\",\n",
    "    \"address\":\"Tinkune\"\n",
    "}\n",
    "data.popitem()\n",
    "print(data)"
   ]
  },
  {
   "cell_type": "code",
   "execution_count": 19,
   "metadata": {},
   "outputs": [
    {
     "name": "stdout",
     "output_type": "stream",
     "text": [
      "copy dict {'name': 'broadway', 'phone': '980'}\n"
     ]
    }
   ],
   "source": [
    "# copy\n",
    "a= {\n",
    "    \"name\":\"broadway\",\n",
    "    \"phone\":\"980\"\n",
    "}\n",
    "b = a.copy()\n",
    "print(\"copy dict\",b)\n"
   ]
  },
  {
   "cell_type": "code",
   "execution_count": 21,
   "metadata": {},
   "outputs": [
    {
     "data": {
      "text/plain": [
       "{'name': 'broadway', 'phone': '980'}"
      ]
     },
     "execution_count": 21,
     "metadata": {},
     "output_type": "execute_result"
    }
   ],
   "source": [
    "#typecasting\n",
    "a= {\n",
    "    \"name\":\"broadway\",\n",
    "    \"phone\":\"980\"\n",
    "}\n",
    "b = dict(a)\n",
    "a"
   ]
  },
  {
   "cell_type": "code",
   "execution_count": 32,
   "metadata": {},
   "outputs": [
    {
     "name": "stdout",
     "output_type": "stream",
     "text": [
      "amrita {'name': 'nobel', 'address': 'test'}\n"
     ]
    }
   ],
   "source": [
    "# Nested Dict\n",
    "data ={\n",
    "    \"name\": \"amrita\",\n",
    "    \"school\":{\n",
    "        \"name\":\"nobel\",\n",
    "        \"address\":\"test\"\n",
    "    },\n",
    "}\n",
    "school = data[\"name\"]\n",
    "school1 = data.get(\"school\")\n",
    "#print(school[\"address\"])c\n",
    "print(school,school1)\n"
   ]
  },
  {
   "cell_type": "code",
   "execution_count": 3,
   "metadata": {},
   "outputs": [
    {
     "name": "stdout",
     "output_type": "stream",
     "text": [
      "Nobel\n"
     ]
    }
   ],
   "source": [
    "# Homework\n",
    "data ={\n",
    "    \"name\": \"amrita\",\n",
    "    \"school\":[\n",
    "       {\n",
    "        \"name\":\"Nobel\",\n",
    "        \"address\":\"New Baneshwor\",\n",
    "       },\n",
    "       {\n",
    "        \"name\" : \"KOPESS\",\n",
    "        \"address\":\"Jadibuti\"\n",
    "       },\n",
    "    ],\n",
    "}\n",
    "print(data[\"school\"][0][\"name\"]+\"-\"+ data[\"school\"][0][\"address\"])\n",
    "# output=Nobel-New Baneshwor- Kopess- Jadibuti"
   ]
  },
  {
   "cell_type": "code",
   "execution_count": 29,
   "metadata": {},
   "outputs": [
    {
     "name": "stdout",
     "output_type": "stream",
     "text": [
      "amrita amrita\n"
     ]
    }
   ],
   "source": [
    "# get \n",
    "data ={\n",
    "    \"name\": \"amrita\",\n",
    "    \"school\":{\n",
    "        \"name\":\"nobel\",\n",
    "        \"address\":\"test\"\n",
    "    },\n",
    "}\n",
    "school = data[\"name\"]\n",
    "school1 = data.get('name',\"test-key\")\n",
    "# print(school[\"address\"])c\n",
    "print(school,school1)"
   ]
  }
 ],
 "metadata": {
  "kernelspec": {
   "display_name": "myenv",
   "language": "python",
   "name": "python3"
  },
  "language_info": {
   "codemirror_mode": {
    "name": "ipython",
    "version": 3
   },
   "file_extension": ".py",
   "mimetype": "text/x-python",
   "name": "python",
   "nbconvert_exporter": "python",
   "pygments_lexer": "ipython3",
   "version": "3.12.2"
  }
 },
 "nbformat": 4,
 "nbformat_minor": 2
}
